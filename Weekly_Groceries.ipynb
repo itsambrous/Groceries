{
 "cells": [
  {
   "attachments": {},
   "cell_type": "markdown",
   "metadata": {},
   "source": [
    "CSV Creation & Data Manipulation"
   ]
  },
  {
   "cell_type": "code",
   "execution_count": 1,
   "metadata": {},
   "outputs": [
    {
     "name": "stdout",
     "output_type": "stream",
     "text": [
      "          Name  Price     Store           Type Quantity\n",
      "0  Minced Pork    6.0  Kaufland        Protein    1000g\n",
      "1   Brown Rice    2.6      Rewe  Carbohydrates    1000g\n",
      "2        Bread    1.0      Rewe  Carbohydrates     500g\n",
      "3         Eggs    2.0  Kaufland        Protein     500g\n",
      "4         Oats    0.8      Rewe  Carbohydrates     500g\n",
      "5      Bananas    1.8      Rewe  Carbohydrates    1000g\n"
     ]
    }
   ],
   "source": [
    "import pandas as pd\n",
    "\n",
    "# Define data to be written to the csv file\n",
    "\n",
    "# Items list []\n",
    "data = [['Minced Pork', 6.00,'Kaufland', 'Protein', '1000g' ],\n",
    "        ['Brown Rice', 2.60, 'Rewe', 'Carbohydrates', '1000g'],\n",
    "        ['Bread', 1.00, 'Rewe', 'Carbohydrates', '500g' ],\n",
    "        ['Eggs', 2.00, 'Kaufland', 'Protein', '500g' ],\n",
    "        ['Oats', 0.80, 'Rewe', 'Carbohydrates', '500g'],\n",
    "        ['Bananas', 1.80, 'Rewe', 'Carbohydrates', '1000g']]\n",
    "\n",
    "# Convert list to pd df\n",
    "\n",
    "df = pd.DataFrame(data, columns=['Name', 'Price', 'Store', 'Type', 'Quantity' ])\n",
    "\n",
    "# Print the DataFrame\n",
    "print(df)"
   ]
  },
  {
   "cell_type": "code",
   "execution_count": 2,
   "metadata": {},
   "outputs": [
    {
     "name": "stdout",
     "output_type": "stream",
     "text": [
      "Index(['Name', 'Price', 'Store', 'Type', 'Quantity'], dtype='object')\n"
     ]
    }
   ],
   "source": [
    "print(df.columns)"
   ]
  },
  {
   "cell_type": "code",
   "execution_count": 3,
   "metadata": {},
   "outputs": [
    {
     "name": "stdout",
     "output_type": "stream",
     "text": [
      "14.2\n"
     ]
    }
   ],
   "source": [
    "# Sum the price column to 2 decimals\n",
    "\n",
    "total_price = round(df['Price'].sum(), 2)\n",
    "\n",
    "print(total_price)"
   ]
  },
  {
   "cell_type": "code",
   "execution_count": 4,
   "metadata": {},
   "outputs": [
    {
     "name": "stdout",
     "output_type": "stream",
     "text": [
      "          Name  Price     Store           Type Quantity\n",
      "0  Minced Pork   6.00  Kaufland        Protein    1000g\n",
      "1   Brown Rice   2.60      Rewe  Carbohydrates    1000g\n",
      "2        Bread   1.00      Rewe  Carbohydrates     500g\n",
      "3         Eggs   2.00  Kaufland        Protein     500g\n",
      "4         Oats   0.80      Rewe  Carbohydrates     500g\n",
      "5      Bananas   1.80      Rewe  Carbohydrates    1000g\n",
      "6      Lentils   4.65  Kaufland  Carbohydrates    1500g\n"
     ]
    }
   ],
   "source": [
    "# Add more items \n",
    "\n",
    "# add Row to DataFrame\n",
    "list_row = [\"Lentils\",4.65 ,'Kaufland', \"Carbohydrates\", '1500g']\n",
    "df.loc[len(df)] = list_row\n",
    "\n",
    "print(df)"
   ]
  },
  {
   "cell_type": "code",
   "execution_count": 5,
   "metadata": {},
   "outputs": [
    {
     "name": "stdout",
     "output_type": "stream",
     "text": [
      "18.85\n"
     ]
    }
   ],
   "source": [
    "# Sum the price column to 2 decimals\n",
    "\n",
    "total_price = round(df['Price'].sum(), 3)\n",
    "\n",
    "print(total_price)"
   ]
  },
  {
   "cell_type": "code",
   "execution_count": 6,
   "metadata": {},
   "outputs": [
    {
     "name": "stdout",
     "output_type": "stream",
     "text": [
      "          Name  Price     Store           Type Quantity\n",
      "0  Minced Pork   6.00  Kaufland        Protein    1000g\n",
      "3         Eggs   2.00  Kaufland        Protein     500g\n",
      "6      Lentils   4.65  Kaufland  Carbohydrates    1500g\n"
     ]
    }
   ],
   "source": [
    "# Print all Kaufland products\n",
    "\n",
    "kaufland_products = df[df['Store'] == 'Kaufland']\n",
    "print(kaufland_products)\n"
   ]
  },
  {
   "cell_type": "code",
   "execution_count": 7,
   "metadata": {},
   "outputs": [
    {
     "data": {
      "text/html": [
       "<div>\n",
       "<style scoped>\n",
       "    .dataframe tbody tr th:only-of-type {\n",
       "        vertical-align: middle;\n",
       "    }\n",
       "\n",
       "    .dataframe tbody tr th {\n",
       "        vertical-align: top;\n",
       "    }\n",
       "\n",
       "    .dataframe thead th {\n",
       "        text-align: right;\n",
       "    }\n",
       "</style>\n",
       "<table border=\"1\" class=\"dataframe\">\n",
       "  <thead>\n",
       "    <tr style=\"text-align: right;\">\n",
       "      <th></th>\n",
       "      <th>Name</th>\n",
       "      <th>Price</th>\n",
       "      <th>Store</th>\n",
       "      <th>Type</th>\n",
       "      <th>Quantity</th>\n",
       "    </tr>\n",
       "  </thead>\n",
       "  <tbody>\n",
       "    <tr>\n",
       "      <th>0</th>\n",
       "      <td>Minced Pork</td>\n",
       "      <td>6.00</td>\n",
       "      <td>Kaufland</td>\n",
       "      <td>Protein</td>\n",
       "      <td>1000g</td>\n",
       "    </tr>\n",
       "    <tr>\n",
       "      <th>1</th>\n",
       "      <td>Brown Rice</td>\n",
       "      <td>2.60</td>\n",
       "      <td>Rewe</td>\n",
       "      <td>Carbohydrates</td>\n",
       "      <td>1000g</td>\n",
       "    </tr>\n",
       "    <tr>\n",
       "      <th>2</th>\n",
       "      <td>Bread</td>\n",
       "      <td>1.00</td>\n",
       "      <td>Rewe</td>\n",
       "      <td>Carbohydrates</td>\n",
       "      <td>500g</td>\n",
       "    </tr>\n",
       "    <tr>\n",
       "      <th>3</th>\n",
       "      <td>Eggs</td>\n",
       "      <td>2.00</td>\n",
       "      <td>Kaufland</td>\n",
       "      <td>Protein</td>\n",
       "      <td>500g</td>\n",
       "    </tr>\n",
       "    <tr>\n",
       "      <th>4</th>\n",
       "      <td>Oats</td>\n",
       "      <td>0.80</td>\n",
       "      <td>Rewe</td>\n",
       "      <td>Carbohydrates</td>\n",
       "      <td>500g</td>\n",
       "    </tr>\n",
       "    <tr>\n",
       "      <th>5</th>\n",
       "      <td>Bananas</td>\n",
       "      <td>1.80</td>\n",
       "      <td>Rewe</td>\n",
       "      <td>Carbohydrates</td>\n",
       "      <td>1000g</td>\n",
       "    </tr>\n",
       "    <tr>\n",
       "      <th>6</th>\n",
       "      <td>Lentils</td>\n",
       "      <td>4.65</td>\n",
       "      <td>Kaufland</td>\n",
       "      <td>Carbohydrates</td>\n",
       "      <td>1500g</td>\n",
       "    </tr>\n",
       "  </tbody>\n",
       "</table>\n",
       "</div>"
      ],
      "text/plain": [
       "          Name  Price     Store           Type Quantity\n",
       "0  Minced Pork   6.00  Kaufland        Protein    1000g\n",
       "1   Brown Rice   2.60      Rewe  Carbohydrates    1000g\n",
       "2        Bread   1.00      Rewe  Carbohydrates     500g\n",
       "3         Eggs   2.00  Kaufland        Protein     500g\n",
       "4         Oats   0.80      Rewe  Carbohydrates     500g\n",
       "5      Bananas   1.80      Rewe  Carbohydrates    1000g\n",
       "6      Lentils   4.65  Kaufland  Carbohydrates    1500g"
      ]
     },
     "execution_count": 7,
     "metadata": {},
     "output_type": "execute_result"
    }
   ],
   "source": [
    "# Preview the df with the few changes made\n",
    "\n",
    "df"
   ]
  },
  {
   "cell_type": "code",
   "execution_count": 8,
   "metadata": {},
   "outputs": [
    {
     "name": "stdout",
     "output_type": "stream",
     "text": [
      "18.85\n"
     ]
    }
   ],
   "source": [
    "print(total_price)"
   ]
  },
  {
   "cell_type": "code",
   "execution_count": 9,
   "metadata": {},
   "outputs": [],
   "source": [
    "# Export the df to a csv\n",
    "\n",
    "df.to_csv('Weekly_Groceries.csv', encoding='utf-8', index=False)"
   ]
  },
  {
   "attachments": {},
   "cell_type": "markdown",
   "metadata": {},
   "source": [
    "Manipulate the newly created CSV 'eval_gro.csv'"
   ]
  },
  {
   "cell_type": "code",
   "execution_count": 10,
   "metadata": {},
   "outputs": [
    {
     "data": {
      "text/html": [
       "<div>\n",
       "<style scoped>\n",
       "    .dataframe tbody tr th:only-of-type {\n",
       "        vertical-align: middle;\n",
       "    }\n",
       "\n",
       "    .dataframe tbody tr th {\n",
       "        vertical-align: top;\n",
       "    }\n",
       "\n",
       "    .dataframe thead th {\n",
       "        text-align: right;\n",
       "    }\n",
       "</style>\n",
       "<table border=\"1\" class=\"dataframe\">\n",
       "  <thead>\n",
       "    <tr style=\"text-align: right;\">\n",
       "      <th></th>\n",
       "      <th>Name</th>\n",
       "      <th>Price</th>\n",
       "      <th>Store</th>\n",
       "      <th>Type</th>\n",
       "      <th>Quantity</th>\n",
       "    </tr>\n",
       "  </thead>\n",
       "  <tbody>\n",
       "    <tr>\n",
       "      <th>0</th>\n",
       "      <td>Minced Pork</td>\n",
       "      <td>6.00</td>\n",
       "      <td>Kaufland</td>\n",
       "      <td>Protein</td>\n",
       "      <td>1000g</td>\n",
       "    </tr>\n",
       "    <tr>\n",
       "      <th>1</th>\n",
       "      <td>Brown Rice</td>\n",
       "      <td>2.60</td>\n",
       "      <td>Rewe</td>\n",
       "      <td>Carbohydrates</td>\n",
       "      <td>1000g</td>\n",
       "    </tr>\n",
       "    <tr>\n",
       "      <th>2</th>\n",
       "      <td>Bread</td>\n",
       "      <td>1.00</td>\n",
       "      <td>Rewe</td>\n",
       "      <td>Carbohydrates</td>\n",
       "      <td>500g</td>\n",
       "    </tr>\n",
       "    <tr>\n",
       "      <th>3</th>\n",
       "      <td>Eggs</td>\n",
       "      <td>2.00</td>\n",
       "      <td>Kaufland</td>\n",
       "      <td>Protein</td>\n",
       "      <td>500g</td>\n",
       "    </tr>\n",
       "    <tr>\n",
       "      <th>4</th>\n",
       "      <td>Oats</td>\n",
       "      <td>0.80</td>\n",
       "      <td>Rewe</td>\n",
       "      <td>Carbohydrates</td>\n",
       "      <td>500g</td>\n",
       "    </tr>\n",
       "    <tr>\n",
       "      <th>5</th>\n",
       "      <td>Bananas</td>\n",
       "      <td>1.80</td>\n",
       "      <td>Rewe</td>\n",
       "      <td>Carbohydrates</td>\n",
       "      <td>1000g</td>\n",
       "    </tr>\n",
       "    <tr>\n",
       "      <th>6</th>\n",
       "      <td>Lentils</td>\n",
       "      <td>4.65</td>\n",
       "      <td>Kaufland</td>\n",
       "      <td>Carbohydrates</td>\n",
       "      <td>1500g</td>\n",
       "    </tr>\n",
       "  </tbody>\n",
       "</table>\n",
       "</div>"
      ],
      "text/plain": [
       "          Name  Price     Store           Type Quantity\n",
       "0  Minced Pork   6.00  Kaufland        Protein    1000g\n",
       "1   Brown Rice   2.60      Rewe  Carbohydrates    1000g\n",
       "2        Bread   1.00      Rewe  Carbohydrates     500g\n",
       "3         Eggs   2.00  Kaufland        Protein     500g\n",
       "4         Oats   0.80      Rewe  Carbohydrates     500g\n",
       "5      Bananas   1.80      Rewe  Carbohydrates    1000g\n",
       "6      Lentils   4.65  Kaufland  Carbohydrates    1500g"
      ]
     },
     "execution_count": 10,
     "metadata": {},
     "output_type": "execute_result"
    }
   ],
   "source": [
    "import pandas as pd\n",
    "\n",
    "# To not alter the original df we create a \"new_df\" but it is a the same csv\n",
    "\n",
    "new_df = pd.read_csv('Weekly_Groceries.csv') #, delimiter = \";\")\n",
    "\n",
    "new_df"
   ]
  },
  {
   "cell_type": "code",
   "execution_count": 11,
   "metadata": {
    "tags": [
     "FEATURES (NEW)"
    ]
   },
   "outputs": [
    {
     "data": {
      "text/html": [
       "<div>\n",
       "<style scoped>\n",
       "    .dataframe tbody tr th:only-of-type {\n",
       "        vertical-align: middle;\n",
       "    }\n",
       "\n",
       "    .dataframe tbody tr th {\n",
       "        vertical-align: top;\n",
       "    }\n",
       "\n",
       "    .dataframe thead th {\n",
       "        text-align: right;\n",
       "    }\n",
       "</style>\n",
       "<table border=\"1\" class=\"dataframe\">\n",
       "  <thead>\n",
       "    <tr style=\"text-align: right;\">\n",
       "      <th></th>\n",
       "      <th>Name</th>\n",
       "      <th>Price</th>\n",
       "      <th>Store</th>\n",
       "      <th>Type</th>\n",
       "      <th>Quantity</th>\n",
       "    </tr>\n",
       "  </thead>\n",
       "  <tbody>\n",
       "    <tr>\n",
       "      <th>0</th>\n",
       "      <td>Minced Pork</td>\n",
       "      <td>6.00</td>\n",
       "      <td>Kaufland</td>\n",
       "      <td>Protein</td>\n",
       "      <td>1000g</td>\n",
       "    </tr>\n",
       "    <tr>\n",
       "      <th>1</th>\n",
       "      <td>Brown Rice</td>\n",
       "      <td>2.60</td>\n",
       "      <td>Rewe</td>\n",
       "      <td>Carbohydrates</td>\n",
       "      <td>1000g</td>\n",
       "    </tr>\n",
       "    <tr>\n",
       "      <th>2</th>\n",
       "      <td>Bread</td>\n",
       "      <td>1.00</td>\n",
       "      <td>Rewe</td>\n",
       "      <td>Carbohydrates</td>\n",
       "      <td>500g</td>\n",
       "    </tr>\n",
       "    <tr>\n",
       "      <th>3</th>\n",
       "      <td>Eggs</td>\n",
       "      <td>2.00</td>\n",
       "      <td>Kaufland</td>\n",
       "      <td>Protein</td>\n",
       "      <td>500g</td>\n",
       "    </tr>\n",
       "    <tr>\n",
       "      <th>4</th>\n",
       "      <td>Oats</td>\n",
       "      <td>0.80</td>\n",
       "      <td>Rewe</td>\n",
       "      <td>Carbohydrates</td>\n",
       "      <td>500g</td>\n",
       "    </tr>\n",
       "    <tr>\n",
       "      <th>5</th>\n",
       "      <td>Bananas</td>\n",
       "      <td>1.80</td>\n",
       "      <td>Rewe</td>\n",
       "      <td>Carbohydrates</td>\n",
       "      <td>1000g</td>\n",
       "    </tr>\n",
       "    <tr>\n",
       "      <th>6</th>\n",
       "      <td>Lentils</td>\n",
       "      <td>4.65</td>\n",
       "      <td>Kaufland</td>\n",
       "      <td>Carbohydrates</td>\n",
       "      <td>1500g</td>\n",
       "    </tr>\n",
       "    <tr>\n",
       "      <th>7</th>\n",
       "      <td>Chicken</td>\n",
       "      <td>6.00</td>\n",
       "      <td>Rewe</td>\n",
       "      <td>Protein</td>\n",
       "      <td>1000g</td>\n",
       "    </tr>\n",
       "    <tr>\n",
       "      <th>8</th>\n",
       "      <td>Skyr</td>\n",
       "      <td>1.50</td>\n",
       "      <td>Rewe</td>\n",
       "      <td>Protein</td>\n",
       "      <td>500g</td>\n",
       "    </tr>\n",
       "  </tbody>\n",
       "</table>\n",
       "</div>"
      ],
      "text/plain": [
       "          Name  Price     Store           Type Quantity\n",
       "0  Minced Pork   6.00  Kaufland        Protein    1000g\n",
       "1   Brown Rice   2.60      Rewe  Carbohydrates    1000g\n",
       "2        Bread   1.00      Rewe  Carbohydrates     500g\n",
       "3         Eggs   2.00  Kaufland        Protein     500g\n",
       "4         Oats   0.80      Rewe  Carbohydrates     500g\n",
       "5      Bananas   1.80      Rewe  Carbohydrates    1000g\n",
       "6      Lentils   4.65  Kaufland  Carbohydrates    1500g\n",
       "7      Chicken   6.00      Rewe        Protein    1000g\n",
       "8         Skyr   1.50      Rewe        Protein     500g"
      ]
     },
     "execution_count": 11,
     "metadata": {},
     "output_type": "execute_result"
    }
   ],
   "source": [
    "# Add a new items only if it hasn't been added before\n",
    "if all(item not in new_df['Name'].values for item in ['Chicken', 'Skyr']):\n",
    "    # Add the 'item' row \n",
    "    new_df.loc[len(new_df)] = ['Chicken', 6.00, 'Rewe', 'Protein', '1000g']\n",
    "    new_df.loc[len(new_df)] = ['Skyr', 1.50, 'Rewe', 'Protein', '500g']\n",
    "\n",
    "new_df"
   ]
  },
  {
   "cell_type": "code",
   "execution_count": 12,
   "metadata": {
    "tags": []
   },
   "outputs": [],
   "source": [
    "# Save the changes back to the CSV file\n",
    "new_df.to_csv('Weekly_Groceries.csv', index=False)"
   ]
  },
  {
   "cell_type": "code",
   "execution_count": 13,
   "metadata": {},
   "outputs": [
    {
     "name": "stdout",
     "output_type": "stream",
     "text": [
      "Total price is: 26.35\n"
     ]
    }
   ],
   "source": [
    "# Reassign total_price 'origin'\n",
    "\n",
    "total_price = new_df['Price'].sum()\n",
    "print(f'Total price is: {total_price:.2f}' )"
   ]
  },
  {
   "cell_type": "code",
   "execution_count": 19,
   "metadata": {},
   "outputs": [
    {
     "data": {
      "text/html": [
       "<div>\n",
       "<style scoped>\n",
       "    .dataframe tbody tr th:only-of-type {\n",
       "        vertical-align: middle;\n",
       "    }\n",
       "\n",
       "    .dataframe tbody tr th {\n",
       "        vertical-align: top;\n",
       "    }\n",
       "\n",
       "    .dataframe thead th {\n",
       "        text-align: right;\n",
       "    }\n",
       "</style>\n",
       "<table border=\"1\" class=\"dataframe\">\n",
       "  <thead>\n",
       "    <tr style=\"text-align: right;\">\n",
       "      <th></th>\n",
       "      <th>Name</th>\n",
       "      <th>Price</th>\n",
       "      <th>Store</th>\n",
       "      <th>Type</th>\n",
       "      <th>Quantity</th>\n",
       "    </tr>\n",
       "  </thead>\n",
       "  <tbody>\n",
       "    <tr>\n",
       "      <th>0</th>\n",
       "      <td>Minced Pork</td>\n",
       "      <td>3.00</td>\n",
       "      <td>Kaufland</td>\n",
       "      <td>Protein</td>\n",
       "      <td>500g</td>\n",
       "    </tr>\n",
       "    <tr>\n",
       "      <th>1</th>\n",
       "      <td>Brown Rice</td>\n",
       "      <td>2.60</td>\n",
       "      <td>Rewe</td>\n",
       "      <td>Carbohydrates</td>\n",
       "      <td>1000</td>\n",
       "    </tr>\n",
       "    <tr>\n",
       "      <th>2</th>\n",
       "      <td>Peanut Butter</td>\n",
       "      <td>2.00</td>\n",
       "      <td>Rewe</td>\n",
       "      <td>Carbohydrates</td>\n",
       "      <td>350g</td>\n",
       "    </tr>\n",
       "    <tr>\n",
       "      <th>3</th>\n",
       "      <td>Eggs</td>\n",
       "      <td>2.30</td>\n",
       "      <td>Penny</td>\n",
       "      <td>Protein</td>\n",
       "      <td>500</td>\n",
       "    </tr>\n",
       "    <tr>\n",
       "      <th>4</th>\n",
       "      <td>Oats</td>\n",
       "      <td>0.80</td>\n",
       "      <td>Rewe</td>\n",
       "      <td>Carbohydrates</td>\n",
       "      <td>500</td>\n",
       "    </tr>\n",
       "    <tr>\n",
       "      <th>5</th>\n",
       "      <td>Bananas</td>\n",
       "      <td>1.50</td>\n",
       "      <td>Rewe</td>\n",
       "      <td>Carbohydrates</td>\n",
       "      <td>1000</td>\n",
       "    </tr>\n",
       "    <tr>\n",
       "      <th>6</th>\n",
       "      <td>Lentils</td>\n",
       "      <td>4.65</td>\n",
       "      <td>Kaufland</td>\n",
       "      <td>Carbohydrates</td>\n",
       "      <td>1500</td>\n",
       "    </tr>\n",
       "    <tr>\n",
       "      <th>7</th>\n",
       "      <td>Chicken</td>\n",
       "      <td>6.00</td>\n",
       "      <td>Rewe</td>\n",
       "      <td>Protein</td>\n",
       "      <td>1000</td>\n",
       "    </tr>\n",
       "    <tr>\n",
       "      <th>8</th>\n",
       "      <td>Skyr</td>\n",
       "      <td>1.50</td>\n",
       "      <td>Rewe</td>\n",
       "      <td>Protein</td>\n",
       "      <td>500</td>\n",
       "    </tr>\n",
       "  </tbody>\n",
       "</table>\n",
       "</div>"
      ],
      "text/plain": [
       "            Name  Price     Store           Type Quantity\n",
       "0    Minced Pork   3.00  Kaufland        Protein     500g\n",
       "1     Brown Rice   2.60      Rewe  Carbohydrates     1000\n",
       "2  Peanut Butter   2.00      Rewe  Carbohydrates     350g\n",
       "3           Eggs   2.30     Penny        Protein      500\n",
       "4           Oats   0.80      Rewe  Carbohydrates      500\n",
       "5        Bananas   1.50      Rewe  Carbohydrates     1000\n",
       "6        Lentils   4.65  Kaufland  Carbohydrates     1500\n",
       "7        Chicken   6.00      Rewe        Protein     1000\n",
       "8           Skyr   1.50      Rewe        Protein      500"
      ]
     },
     "execution_count": 19,
     "metadata": {},
     "output_type": "execute_result"
    }
   ],
   "source": [
    "# Fix prices to be with 3 significant figures (float)\n",
    "\n",
    "new_df['Price'] = pd.to_numeric(new_df['Price'])\n",
    "new_df['Price'] = round(new_df['Price'], 3)\n",
    "\n",
    "# Add the \"free-range\" eggs to the df, alter price, stor\n",
    "\n",
    "new_df.loc[new_df['Name'] == 'Eggs', 'Price'] = 2.30\n",
    "new_df.loc[new_df['Name'] == 'Eggs', 'Store'] = 'Penny'\n",
    "\n",
    "# Remove (rename) Bread\n",
    "# Replace with Peanut Butter\n",
    "\n",
    "new_df.loc[new_df['Name'] == 'Bread', 'Price'] = 2.00\n",
    "new_df.loc[new_df['Name'] == 'Bread', 'Quantity'] = '350g'\n",
    "new_df.loc[new_df['Name'] == 'Bread', 'Name'] = 'Peanut Butter'\n",
    "# Fix minced pork \"Price\", \" Quantity\"\n",
    "\n",
    "new_df.loc[new_df['Name'] == 'Minced Pork', 'Price'] = 3.00\n",
    "new_df.loc[new_df['Name'] == 'Minced Pork', 'Quantity'] = '500g'\n",
    "\n",
    "# Display the updated df\n",
    "new_df"
   ]
  },
  {
   "cell_type": "code",
   "execution_count": 20,
   "metadata": {},
   "outputs": [
    {
     "data": {
      "text/html": [
       "<div>\n",
       "<style scoped>\n",
       "    .dataframe tbody tr th:only-of-type {\n",
       "        vertical-align: middle;\n",
       "    }\n",
       "\n",
       "    .dataframe tbody tr th {\n",
       "        vertical-align: top;\n",
       "    }\n",
       "\n",
       "    .dataframe thead th {\n",
       "        text-align: right;\n",
       "    }\n",
       "</style>\n",
       "<table border=\"1\" class=\"dataframe\">\n",
       "  <thead>\n",
       "    <tr style=\"text-align: right;\">\n",
       "      <th></th>\n",
       "      <th>Name</th>\n",
       "      <th>Price</th>\n",
       "      <th>Store</th>\n",
       "      <th>Type</th>\n",
       "      <th>Quantity</th>\n",
       "    </tr>\n",
       "  </thead>\n",
       "  <tbody>\n",
       "    <tr>\n",
       "      <th>0</th>\n",
       "      <td>Minced Pork</td>\n",
       "      <td>3.00</td>\n",
       "      <td>Kaufland</td>\n",
       "      <td>Protein</td>\n",
       "      <td>500</td>\n",
       "    </tr>\n",
       "    <tr>\n",
       "      <th>1</th>\n",
       "      <td>Brown Rice</td>\n",
       "      <td>2.60</td>\n",
       "      <td>Rewe</td>\n",
       "      <td>Carbohydrates</td>\n",
       "      <td>1000</td>\n",
       "    </tr>\n",
       "    <tr>\n",
       "      <th>2</th>\n",
       "      <td>Peanut Butter</td>\n",
       "      <td>2.00</td>\n",
       "      <td>Rewe</td>\n",
       "      <td>Carbohydrates</td>\n",
       "      <td>350</td>\n",
       "    </tr>\n",
       "    <tr>\n",
       "      <th>3</th>\n",
       "      <td>Eggs</td>\n",
       "      <td>2.30</td>\n",
       "      <td>Penny</td>\n",
       "      <td>Protein</td>\n",
       "      <td>500</td>\n",
       "    </tr>\n",
       "    <tr>\n",
       "      <th>4</th>\n",
       "      <td>Oats</td>\n",
       "      <td>0.80</td>\n",
       "      <td>Rewe</td>\n",
       "      <td>Carbohydrates</td>\n",
       "      <td>500</td>\n",
       "    </tr>\n",
       "    <tr>\n",
       "      <th>5</th>\n",
       "      <td>Bananas</td>\n",
       "      <td>1.50</td>\n",
       "      <td>Rewe</td>\n",
       "      <td>Carbohydrates</td>\n",
       "      <td>1000</td>\n",
       "    </tr>\n",
       "    <tr>\n",
       "      <th>6</th>\n",
       "      <td>Lentils</td>\n",
       "      <td>4.65</td>\n",
       "      <td>Kaufland</td>\n",
       "      <td>Carbohydrates</td>\n",
       "      <td>1500</td>\n",
       "    </tr>\n",
       "    <tr>\n",
       "      <th>7</th>\n",
       "      <td>Chicken</td>\n",
       "      <td>6.00</td>\n",
       "      <td>Rewe</td>\n",
       "      <td>Protein</td>\n",
       "      <td>1000</td>\n",
       "    </tr>\n",
       "    <tr>\n",
       "      <th>8</th>\n",
       "      <td>Skyr</td>\n",
       "      <td>1.50</td>\n",
       "      <td>Rewe</td>\n",
       "      <td>Protein</td>\n",
       "      <td>500</td>\n",
       "    </tr>\n",
       "  </tbody>\n",
       "</table>\n",
       "</div>"
      ],
      "text/plain": [
       "            Name  Price     Store           Type  Quantity\n",
       "0    Minced Pork   3.00  Kaufland        Protein       500\n",
       "1     Brown Rice   2.60      Rewe  Carbohydrates      1000\n",
       "2  Peanut Butter   2.00      Rewe  Carbohydrates       350\n",
       "3           Eggs   2.30     Penny        Protein       500\n",
       "4           Oats   0.80      Rewe  Carbohydrates       500\n",
       "5        Bananas   1.50      Rewe  Carbohydrates      1000\n",
       "6        Lentils   4.65  Kaufland  Carbohydrates      1500\n",
       "7        Chicken   6.00      Rewe        Protein      1000\n",
       "8           Skyr   1.50      Rewe        Protein       500"
      ]
     },
     "execution_count": 20,
     "metadata": {},
     "output_type": "execute_result"
    }
   ],
   "source": [
    "# Step 1: Convert 'Quantity' to string and remove 'g'\n",
    "new_df['Quantity'] = new_df['Quantity'].astype(str).str.replace('g', '')\n",
    "\n",
    "# Step 2: Convert 'Quantity' to int\n",
    "new_df['Quantity'] = new_df['Quantity'].astype(int)\n",
    "\n",
    "# Step 3: Change price for bananas\n",
    "new_df.loc[new_df['Name'] == 'Bananas', 'Price'] = 1.50\n",
    "\n",
    "# Step 3: Display final changes\n",
    "new_df"
   ]
  },
  {
   "cell_type": "code",
   "execution_count": 21,
   "metadata": {},
   "outputs": [
    {
     "data": {
      "image/png": "[encoded data removed]",
      "text/plain": [
       "<Figure size 800x600 with 1 Axes>"
      ]
     },
     "metadata": {},
     "output_type": "display_data"
    }
   ],
   "source": [
    "# Create a visualisation\n",
    "import matplotlib.pyplot as plt\n",
    "import os\n",
    "\n",
    "# Create a bar chart (columns to be axis's)\n",
    "fig, ax = plt.subplots(figsize=(8, 6))\n",
    "ax.bar(new_df['Name'], new_df['Price'], color='#1f77b4', edgecolor='black')\n",
    "\n",
    "# Set the title and labels\n",
    "ax.set_title('Weekly Groceries')\n",
    "ax.set_xlabel('Items')\n",
    "ax.set_ylabel('Total Price (€)')\n",
    "\n",
    "# X-Ticks, to make x axis labels rotate\n",
    "plt.xticks(rotation=45)\n",
    "\n",
    "# Set the background color of the plot\n",
    "ax.set_facecolor('#f0f0f0')\n",
    "\n",
    "# Calculate and display the total price for all items\n",
    "total_price = new_df['Price'].sum()\n",
    "ax.text(0.15, 0.95, f'Total Price: {total_price:.2f} €', transform=ax.transAxes, fontsize=12, verticalalignment='top')\n",
    "\n",
    "\n",
    "# Add value labels to each bar\n",
    "bars = ax.bar(new_df['Name'], new_df['Price'], color='#1f77b4', edgecolor='black')\n",
    "colors = ['#1f77b4', '#ff7f0e', '#2ca02c', '#d62728', '#9467bd', '#8c564b', '#e377c2', '#7f7f7f', '#bcbd22', '#17becf']\n",
    "\n",
    "# For loop to repeat the action\n",
    "for i, bar in enumerate(bars):\n",
    "    ax.text(bar.get_x() + bar.get_width() / 2, bar.get_height(), f'{new_df[\"Price\"].iloc[i]:.2f} €', ha='center', va='bottom', fontsize=10)\n",
    "    bar.set_color(colors[i % len(colors)])\n",
    "\n",
    "# Get the path to the desired directory (path)\n",
    "save_path = r'C:\\Users\\henry\\OneDrive\\Desktop\\sampling\\Projects\\Weekly_Groceries'\n",
    "\n",
    "# Save the figure to the Downloads directory as a jpeg image\n",
    "plt.savefig(os.path.join(save_path, 'Weekly_Groceries.jpeg'), dpi=300, bbox_inches='tight')\n",
    "\n",
    "\n",
    "# Display the chart\n",
    "plt.show()\n"
   ]
  },
  {
   "attachments": {},
   "cell_type": "markdown",
   "metadata": {},
   "source": [
    "2nd Part \n",
    "\n",
    "To be Determined"
   ]
  },
  {
   "cell_type": "code",
   "execution_count": 18,
   "metadata": {},
   "outputs": [
    {
     "name": "stdout",
     "output_type": "stream",
     "text": [
      "waiting on input/expansion\n"
     ]
    }
   ],
   "source": [
    "print('waiting on input/expansion')"
   ]
  }
 ],
 "metadata": {
  "kernelspec": {
   "display_name": "Python 3",
   "language": "python",
   "name": "python3"
  },
  "language_info": {
   "codemirror_mode": {
    "name": "ipython",
    "version": 3
   },
   "file_extension": ".py",
   "mimetype": "text/x-python",
   "name": "python",
   "nbconvert_exporter": "python",
   "pygments_lexer": "ipython3",
   "version": "3.11.1"
  },
  "orig_nbformat": 4
 },
 "nbformat": 4,
 "nbformat_minor": 2
}
